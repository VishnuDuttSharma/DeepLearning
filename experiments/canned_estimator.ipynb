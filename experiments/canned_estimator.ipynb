{
 "cells": [
  {
   "cell_type": "code",
   "execution_count": 1,
   "metadata": {
    "collapsed": true
   },
   "outputs": [],
   "source": [
    "from __future__ import absolute_import\n",
    "from __future__ import division\n",
    "from __future__ import print_function\n",
    "\n",
    "import numpy as np\n",
    "import tensorflow as tf"
   ]
  },
  {
   "cell_type": "code",
   "execution_count": 2,
   "metadata": {
    "collapsed": false
   },
   "outputs": [
    {
     "data": {
      "text/plain": [
       "'1.3.0'"
      ]
     },
     "execution_count": 2,
     "metadata": {},
     "output_type": "execute_result"
    }
   ],
   "source": [
    "tf.__version__"
   ]
  },
  {
   "cell_type": "code",
   "execution_count": 3,
   "metadata": {
    "collapsed": false
   },
   "outputs": [
    {
     "name": "stdout",
     "output_type": "stream",
     "text": [
      "60000 train samples\n",
      "10000 test samples\n"
     ]
    }
   ],
   "source": [
    "# We'll use Keras (included with TensorFlow) to import the data\n",
    "(x_train, y_train), (x_test, y_test) = tf.contrib.keras.datasets.mnist.load_data()\n",
    "\n",
    "x_train = x_train.astype('float32')\n",
    "x_test = x_test.astype('float32')\n",
    "\n",
    "y_train = y_train.astype('int32')\n",
    "y_test = y_test.astype('int32')\n",
    "\n",
    "# Normalize the color values to 0-1\n",
    "# (as imported, they're 0-255)\n",
    "x_train /= 255\n",
    "x_test /= 255\n",
    "\n",
    "print(x_train.shape[0], 'train samples')\n",
    "print(x_test.shape[0], 'test samples')"
   ]
  },
  {
   "cell_type": "code",
   "execution_count": 4,
   "metadata": {
    "collapsed": true
   },
   "outputs": [],
   "source": [
    "train_input = tf.estimator.inputs.numpy_input_fn(\n",
    "    {'x': x_train},\n",
    "    y_train, \n",
    "    num_epochs=None, # repeat forever\n",
    "    shuffle=True # \n",
    ")"
   ]
  },
  {
   "cell_type": "code",
   "execution_count": 5,
   "metadata": {
    "collapsed": true
   },
   "outputs": [],
   "source": [
    "test_input = tf.estimator.inputs.numpy_input_fn(\n",
    "    {'x': x_test},\n",
    "    y_test,\n",
    "    num_epochs=1, # loop through the dataset once\n",
    "    shuffle=False # don't shuffle the test data\n",
    ")"
   ]
  },
  {
   "cell_type": "code",
   "execution_count": 6,
   "metadata": {
    "collapsed": false
   },
   "outputs": [],
   "source": [
    "# define the features for our model\n",
    "# the names must match the input function\n",
    "feature_spec = [tf.feature_column.numeric_column('x', shape=784)]"
   ]
  },
  {
   "cell_type": "code",
   "execution_count": 9,
   "metadata": {
    "collapsed": false
   },
   "outputs": [
    {
     "data": {
      "text/plain": [
       "[_NumericColumn(key='x', shape=(784,), default_value=None, dtype=tf.float32, normalizer_fn=None)]"
      ]
     },
     "execution_count": 9,
     "metadata": {},
     "output_type": "execute_result"
    }
   ],
   "source": [
    "feature_spec"
   ]
  },
  {
   "cell_type": "code",
   "execution_count": 8,
   "metadata": {
    "collapsed": false
   },
   "outputs": [
    {
     "name": "stdout",
     "output_type": "stream",
     "text": [
      "INFO:tensorflow:Using default config.\n",
      "INFO:tensorflow:Using config: {'_keep_checkpoint_max': 5, '_log_step_count_steps': 100, '_save_summary_steps': 100, '_tf_random_seed': 1, '_save_checkpoints_steps': None, '_session_config': None, '_model_dir': './graphs/canned/linear', '_keep_checkpoint_every_n_hours': 10000, '_save_checkpoints_secs': 600}\n"
     ]
    }
   ],
   "source": [
    "estimator = tf.estimator.LinearClassifier(feature_spec, \n",
    "                                          n_classes=10,\n",
    "                                          model_dir=\"./graphs/canned/linear\")"
   ]
  },
  {
   "cell_type": "code",
   "execution_count": 9,
   "metadata": {
    "collapsed": false
   },
   "outputs": [
    {
     "name": "stdout",
     "output_type": "stream",
     "text": [
      "INFO:tensorflow:Create CheckpointSaverHook.\n",
      "INFO:tensorflow:Saving checkpoints for 1 into ./graphs/canned/linear\\model.ckpt.\n",
      "INFO:tensorflow:step = 1, loss = 294.731\n",
      "INFO:tensorflow:global_step/sec: 182.86\n",
      "INFO:tensorflow:step = 101, loss = 37.2493 (0.561 sec)\n",
      "INFO:tensorflow:global_step/sec: 187.306\n",
      "INFO:tensorflow:step = 201, loss = 30.027 (0.522 sec)\n",
      "INFO:tensorflow:global_step/sec: 188.881\n",
      "INFO:tensorflow:step = 301, loss = 39.0998 (0.531 sec)\n",
      "INFO:tensorflow:global_step/sec: 177.493\n",
      "INFO:tensorflow:step = 401, loss = 28.7903 (0.563 sec)\n",
      "INFO:tensorflow:global_step/sec: 187.122\n",
      "INFO:tensorflow:step = 501, loss = 37.7258 (0.533 sec)\n",
      "INFO:tensorflow:global_step/sec: 188.911\n",
      "INFO:tensorflow:step = 601, loss = 59.2797 (0.529 sec)\n",
      "INFO:tensorflow:global_step/sec: 186.782\n",
      "INFO:tensorflow:step = 701, loss = 44.9636 (0.535 sec)\n",
      "INFO:tensorflow:global_step/sec: 190.148\n",
      "INFO:tensorflow:step = 801, loss = 20.6363 (0.526 sec)\n",
      "INFO:tensorflow:global_step/sec: 190.17\n",
      "INFO:tensorflow:step = 901, loss = 26.8846 (0.526 sec)\n",
      "INFO:tensorflow:Saving checkpoints for 1000 into ./graphs/canned/linear\\model.ckpt.\n",
      "INFO:tensorflow:Loss for final step: 18.1647.\n"
     ]
    },
    {
     "data": {
      "text/plain": [
       "<tensorflow.python.estimator.canned.linear.LinearClassifier at 0x1d470b71d68>"
      ]
     },
     "execution_count": 9,
     "metadata": {},
     "output_type": "execute_result"
    }
   ],
   "source": [
    "# I've arbitrarily decided to train for 1000 steps\n",
    "estimator.train(train_input, steps=1000)"
   ]
  },
  {
   "cell_type": "code",
   "execution_count": 10,
   "metadata": {
    "collapsed": false
   },
   "outputs": [
    {
     "name": "stdout",
     "output_type": "stream",
     "text": [
      "INFO:tensorflow:Starting evaluation at 2017-10-17-16:01:45\n",
      "INFO:tensorflow:Restoring parameters from ./graphs/canned/linear\\model.ckpt-1000\n",
      "INFO:tensorflow:Finished evaluation at 2017-10-17-16:01:45\n",
      "INFO:tensorflow:Saving dict for global step 1000: accuracy = 0.9204, average_loss = 0.283268, global_step = 1000, loss = 35.8567\n",
      "{'average_loss': 0.28326771, 'accuracy': 0.92040002, 'global_step': 1000, 'loss': 35.85667}\n"
     ]
    }
   ],
   "source": [
    "# We should see about 90% accuracy here.\n",
    "evaluation = estimator.evaluate(input_fn=test_input)\n",
    "print(evaluation)"
   ]
  },
  {
   "cell_type": "code",
   "execution_count": 11,
   "metadata": {
    "collapsed": false
   },
   "outputs": [
    {
     "name": "stdout",
     "output_type": "stream",
     "text": [
      "INFO:tensorflow:Restoring parameters from ./graphs/canned/linear\\model.ckpt-1000\n",
      "Example 0. True: 7, Predicted: 7\n",
      "Example 1. True: 2, Predicted: 2\n",
      "Example 2. True: 1, Predicted: 1\n",
      "Example 3. True: 0, Predicted: 0\n",
      "Example 4. True: 4, Predicted: 4\n"
     ]
    }
   ],
   "source": [
    "MAX_TO_PRINT = 5\n",
    "\n",
    "# This returns a generator object\n",
    "predictions = estimator.predict(input_fn=test_input)\n",
    "i = 0\n",
    "for p in predictions:\n",
    "    true_label = y_test[i]\n",
    "    predicted_label = p['class_ids'][0]\n",
    "    print(\"Example %d. True: %d, Predicted: %d\" % (i, true_label, predicted_label))\n",
    "    i += 1\n",
    "    if i == MAX_TO_PRINT: break"
   ]
  },
  {
   "cell_type": "code",
   "execution_count": 12,
   "metadata": {
    "collapsed": false
   },
   "outputs": [
    {
     "name": "stdout",
     "output_type": "stream",
     "text": [
      "INFO:tensorflow:Using default config.\n",
      "INFO:tensorflow:Using config: {'_keep_checkpoint_max': 5, '_log_step_count_steps': 100, '_save_summary_steps': 100, '_tf_random_seed': 1, '_save_checkpoints_steps': None, '_session_config': None, '_model_dir': './graphs/canned/deep', '_keep_checkpoint_every_n_hours': 10000, '_save_checkpoints_secs': 600}\n"
     ]
    }
   ],
   "source": [
    "estimator = tf.estimator.DNNClassifier(\n",
    "    hidden_units=[256], # we will arbitrarily use two layers\n",
    "    feature_columns=feature_spec,\n",
    "    n_classes=10,\n",
    "    model_dir=\"./graphs/canned/deep\")"
   ]
  },
  {
   "cell_type": "code",
   "execution_count": 13,
   "metadata": {
    "collapsed": false
   },
   "outputs": [
    {
     "name": "stdout",
     "output_type": "stream",
     "text": [
      "INFO:tensorflow:Create CheckpointSaverHook.\n",
      "INFO:tensorflow:Saving checkpoints for 1 into ./graphs/canned/deep\\model.ckpt.\n",
      "INFO:tensorflow:step = 1, loss = 307.327\n",
      "INFO:tensorflow:global_step/sec: 242.663\n",
      "INFO:tensorflow:step = 101, loss = 28.6629 (0.416 sec)\n",
      "INFO:tensorflow:global_step/sec: 280.443\n",
      "INFO:tensorflow:step = 201, loss = 14.8215 (0.357 sec)\n",
      "INFO:tensorflow:global_step/sec: 280.882\n",
      "INFO:tensorflow:step = 301, loss = 19.3822 (0.356 sec)\n",
      "INFO:tensorflow:global_step/sec: 215.828\n",
      "INFO:tensorflow:step = 401, loss = 20.9306 (0.464 sec)\n",
      "INFO:tensorflow:global_step/sec: 247.449\n",
      "INFO:tensorflow:step = 501, loss = 22.5594 (0.400 sec)\n",
      "INFO:tensorflow:global_step/sec: 300.877\n",
      "INFO:tensorflow:step = 601, loss = 14.6611 (0.336 sec)\n",
      "INFO:tensorflow:global_step/sec: 219.326\n",
      "INFO:tensorflow:step = 701, loss = 17.792 (0.457 sec)\n",
      "INFO:tensorflow:global_step/sec: 170.999\n",
      "INFO:tensorflow:step = 801, loss = 10.3788 (0.584 sec)\n",
      "INFO:tensorflow:global_step/sec: 225.081\n",
      "INFO:tensorflow:step = 901, loss = 11.0757 (0.440 sec)\n",
      "INFO:tensorflow:global_step/sec: 300.921\n",
      "INFO:tensorflow:step = 1001, loss = 17.726 (0.336 sec)\n",
      "INFO:tensorflow:global_step/sec: 295.283\n",
      "INFO:tensorflow:step = 1101, loss = 7.17998 (0.337 sec)\n",
      "INFO:tensorflow:global_step/sec: 296.483\n",
      "INFO:tensorflow:step = 1201, loss = 8.70613 (0.339 sec)\n",
      "INFO:tensorflow:global_step/sec: 287.08\n",
      "INFO:tensorflow:step = 1301, loss = 3.38392 (0.344 sec)\n",
      "INFO:tensorflow:global_step/sec: 297.675\n",
      "INFO:tensorflow:step = 1401, loss = 6.36404 (0.336 sec)\n",
      "INFO:tensorflow:global_step/sec: 300.496\n",
      "INFO:tensorflow:step = 1501, loss = 3.59901 (0.337 sec)\n",
      "INFO:tensorflow:global_step/sec: 297.314\n",
      "INFO:tensorflow:step = 1601, loss = 11.5062 (0.337 sec)\n",
      "INFO:tensorflow:global_step/sec: 294.25\n",
      "INFO:tensorflow:step = 1701, loss = 11.2831 (0.335 sec)\n",
      "INFO:tensorflow:global_step/sec: 121.218\n",
      "INFO:tensorflow:step = 1801, loss = 3.75032 (0.833 sec)\n",
      "INFO:tensorflow:global_step/sec: 79.08\n",
      "INFO:tensorflow:step = 1901, loss = 11.2276 (1.265 sec)\n",
      "INFO:tensorflow:Saving checkpoints for 2000 into ./graphs/canned/deep\\model.ckpt.\n",
      "INFO:tensorflow:Loss for final step: 20.1281.\n"
     ]
    },
    {
     "data": {
      "text/plain": [
       "<tensorflow.python.estimator.canned.dnn.DNNClassifier at 0x1d470dd1b70>"
      ]
     },
     "execution_count": 13,
     "metadata": {},
     "output_type": "execute_result"
    }
   ],
   "source": [
    "# I've arbitrarily decided to train for 2000 steps\n",
    "estimator.train(train_input, steps=2000)"
   ]
  },
  {
   "cell_type": "code",
   "execution_count": 14,
   "metadata": {
    "collapsed": false
   },
   "outputs": [
    {
     "name": "stdout",
     "output_type": "stream",
     "text": [
      "INFO:tensorflow:Starting evaluation at 2017-10-17-16:03:32\n",
      "INFO:tensorflow:Restoring parameters from ./graphs/canned/deep\\model.ckpt-2000\n",
      "INFO:tensorflow:Finished evaluation at 2017-10-17-16:03:32\n",
      "INFO:tensorflow:Saving dict for global step 2000: accuracy = 0.9716, average_loss = 0.0910152, global_step = 2000, loss = 11.5209\n",
      "{'average_loss': 0.09101516, 'accuracy': 0.9716, 'global_step': 2000, 'loss': 11.520906}\n"
     ]
    }
   ],
   "source": [
    "# Expect accuracy around 97%\n",
    "evaluation = estimator.evaluate(input_fn=test_input)\n",
    "print(evaluation)"
   ]
  },
  {
   "cell_type": "markdown",
   "metadata": {},
   "source": [
    "If you like, you can compare these runs with TensorBoard.\n",
    "\n",
    "``` $ tensorboard --logdir=graphs/canned/ ```"
   ]
  }
 ],
 "metadata": {
  "kernelspec": {
   "display_name": "Python [conda root]",
   "language": "python",
   "name": "conda-root-py"
  },
  "language_info": {
   "codemirror_mode": {
    "name": "ipython",
    "version": 3
   },
   "file_extension": ".py",
   "mimetype": "text/x-python",
   "name": "python",
   "nbconvert_exporter": "python",
   "pygments_lexer": "ipython3",
   "version": "3.5.2"
  }
 },
 "nbformat": 4,
 "nbformat_minor": 2
}
