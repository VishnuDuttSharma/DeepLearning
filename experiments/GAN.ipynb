{
 "cells": [
  {
   "cell_type": "code",
   "execution_count": 1,
   "metadata": {
    "collapsed": true
   },
   "outputs": [],
   "source": [
    "from __future__ import print_function"
   ]
  },
  {
   "cell_type": "code",
   "execution_count": 2,
   "metadata": {
    "collapsed": true
   },
   "outputs": [],
   "source": [
    "import numpy as np"
   ]
  },
  {
   "cell_type": "code",
   "execution_count": 17,
   "metadata": {
    "collapsed": false
   },
   "outputs": [],
   "source": [
    "from keras.models import Model\n",
    "from keras.layers import Input,Dense,BatchNormalization,Reshape, Convolution2D, Activation, Flatten, UpSampling2D,Dropout, Conv2D, concatenate\n",
    "from tensorflow.examples.tutorials.mnist import input_data"
   ]
  },
  {
   "cell_type": "code",
   "execution_count": 4,
   "metadata": {
    "collapsed": true
   },
   "outputs": [],
   "source": [
    "gen_input_dim = 128\n",
    "batch_size=100\n",
    "drop_rate = 0.2\n",
    "img_shape = [28,28,1]"
   ]
  },
  {
   "cell_type": "code",
   "execution_count": 5,
   "metadata": {
    "collapsed": true
   },
   "outputs": [],
   "source": [
    "def switch_training(model, is_trainable):\n",
    "    model.trainable = is_trainable\n",
    "    for layer in model.layers:\n",
    "        layer.trainable = is_trainable"
   ]
  },
  {
   "cell_type": "code",
   "execution_count": 46,
   "metadata": {
    "collapsed": true
   },
   "outputs": [],
   "source": [
    "num_channel = 100\n",
    "input_data = Input(shape=[gen_input_dim])\n",
    "X = Dense(num_channel*14*14, activation='relu')(input_data)\n",
    "X = Reshape([14,14, num_channel])(X)\n",
    "X = UpSampling2D(size=(2,2))(X)\n",
    "X = Conv2D(int(num_channel/2), (3, 3), padding='same')(X)\n",
    "X = BatchNormalization()(X)\n",
    "X = Conv2D(int(num_channel/4), (3, 3), padding='same')(X)\n",
    "X = BatchNormalization()(X)\n",
    "X = Conv2D(1, (1, 1), padding='same')(X)\n",
    "Y = Activation('sigmoid')(X)\n",
    "\n",
    "generator = Model(inputs=[input_data], outputs=Y )\n",
    "generator.compile(optimizer=\"adam\", loss=\"binary_crossentropy\")\n",
    "    "
   ]
  },
  {
   "cell_type": "code",
   "execution_count": 13,
   "metadata": {
    "collapsed": false
   },
   "outputs": [],
   "source": [
    "\n",
    "input_data = Input(shape=img_shape)\n",
    "X = Conv2D(256, (5, 5), strides=(2, 2), padding='same', activation='relu')(input_data)\n",
    "X = Dropout(drop_rate)(X)\n",
    "X = Conv2D(512, (5, 5), strides=(2, 2), padding='same', activation='relu')(X)\n",
    "X = Dropout(drop_rate)(X)\n",
    "X = Flatten()(X)\n",
    "X = Dense(256, activation='relu')(X)\n",
    "X = Dropout(drop_rate)(X)\n",
    "Y = Dense(2,activation='softmax')(X)\n",
    "\n",
    "discriminator = Model(inputs=[input_data], outputs=Y)\n",
    "discriminator.compile(loss='categorical_crossentropy', optimizer=\"adam\")\n",
    "\n",
    "\n",
    "    \n"
   ]
  },
  {
   "cell_type": "code",
   "execution_count": 48,
   "metadata": {
    "collapsed": false
   },
   "outputs": [],
   "source": [
    "\n",
    "switch_training(discriminator, False)\n",
    "\n",
    "input_data = Input(shape=[gen_input_dim])\n",
    "X = generator(input_data)\n",
    "Y = discriminator(X)\n",
    "GAN = Model(inputs=input_data, outputs=Y)\n",
    "GAN.compile(loss='categorical_crossentropy', optimizer=\"adam\")\n"
   ]
  },
  {
   "cell_type": "code",
   "execution_count": 16,
   "metadata": {
    "collapsed": false
   },
   "outputs": [
    {
     "name": "stdout",
     "output_type": "stream",
     "text": [
      "Extracting ../data_mnist/train-images-idx3-ubyte.gz\n",
      "Extracting ../data_mnist/train-labels-idx1-ubyte.gz\n",
      "Extracting ../data_mnist/t10k-images-idx3-ubyte.gz\n",
      "Extracting ../data_mnist/t10k-labels-idx1-ubyte.gz\n"
     ]
    }
   ],
   "source": [
    "data = input_data.read_data_sets(\"../data_mnist/\", one_hot=True)"
   ]
  },
  {
   "cell_type": "code",
   "execution_count": 69,
   "metadata": {
    "collapsed": false
   },
   "outputs": [
    {
     "name": "stdout",
     "output_type": "stream",
     "text": [
      "_________________________________________________________________\n",
      "Layer (type)                 Output Shape              Param #   \n",
      "=================================================================\n",
      "input_7 (InputLayer)         (None, 28, 28, 1)         0         \n",
      "_________________________________________________________________\n",
      "conv2d_18 (Conv2D)           (None, 14, 14, 256)       6656      \n",
      "_________________________________________________________________\n",
      "dropout_4 (Dropout)          (None, 14, 14, 256)       0         \n",
      "_________________________________________________________________\n",
      "conv2d_19 (Conv2D)           (None, 7, 7, 512)         3277312   \n",
      "_________________________________________________________________\n",
      "dropout_5 (Dropout)          (None, 7, 7, 512)         0         \n",
      "_________________________________________________________________\n",
      "flatten_2 (Flatten)          (None, 25088)             0         \n",
      "_________________________________________________________________\n",
      "dense_8 (Dense)              (None, 256)               6422784   \n",
      "_________________________________________________________________\n",
      "dropout_6 (Dropout)          (None, 256)               0         \n",
      "_________________________________________________________________\n",
      "dense_9 (Dense)              (None, 2)                 514       \n",
      "=================================================================\n",
      "Total params: 9,707,266.0\n",
      "Trainable params: 9,707,266.0\n",
      "Non-trainable params: 0.0\n",
      "_________________________________________________________________\n"
     ]
    }
   ],
   "source": [
    "switch_training(discriminator, True)\n",
    "discriminator.summary()"
   ]
  },
  {
   "cell_type": "code",
   "execution_count": 71,
   "metadata": {
    "collapsed": false
   },
   "outputs": [
    {
     "name": "stdout",
     "output_type": "stream",
     "text": [
      "_________________________________________________________________\n",
      "Layer (type)                 Output Shape              Param #   \n",
      "=================================================================\n",
      "input_15 (InputLayer)        (None, 128)               0         \n",
      "_________________________________________________________________\n",
      "dense_16 (Dense)             (None, 19600)             2528400   \n",
      "_________________________________________________________________\n",
      "reshape_12 (Reshape)         (None, 14, 14, 100)       0         \n",
      "_________________________________________________________________\n",
      "up_sampling2d_11 (UpSampling (None, 28, 28, 100)       0         \n",
      "_________________________________________________________________\n",
      "conv2d_28 (Conv2D)           (None, 28, 28, 50)        45050     \n",
      "_________________________________________________________________\n",
      "batch_normalization_17 (Batc (None, 28, 28, 50)        200       \n",
      "_________________________________________________________________\n",
      "conv2d_29 (Conv2D)           (None, 28, 28, 25)        11275     \n",
      "_________________________________________________________________\n",
      "batch_normalization_18 (Batc (None, 28, 28, 25)        100       \n",
      "_________________________________________________________________\n",
      "conv2d_30 (Conv2D)           (None, 28, 28, 1)         26        \n",
      "_________________________________________________________________\n",
      "activation_7 (Activation)    (None, 28, 28, 1)         0         \n",
      "=================================================================\n",
      "Total params: 2,585,051.0\n",
      "Trainable params: 2,584,901.0\n",
      "Non-trainable params: 150.0\n",
      "_________________________________________________________________\n"
     ]
    }
   ],
   "source": [
    "generator.summary()"
   ]
  },
  {
   "cell_type": "code",
   "execution_count": 70,
   "metadata": {
    "collapsed": false
   },
   "outputs": [
    {
     "name": "stdout",
     "output_type": "stream",
     "text": [
      "_________________________________________________________________\n",
      "Layer (type)                 Output Shape              Param #   \n",
      "=================================================================\n",
      "input_16 (InputLayer)        (None, 128)               0         \n",
      "_________________________________________________________________\n",
      "model_10 (Model)             (None, 28, 28, 1)         2585051   \n",
      "_________________________________________________________________\n",
      "model_7 (Model)              (None, 2)                 9707266   \n",
      "=================================================================\n",
      "Total params: 12,292,317.0\n",
      "Trainable params: 12,292,167.0\n",
      "Non-trainable params: 150.0\n",
      "_________________________________________________________________\n"
     ]
    }
   ],
   "source": [
    "GAN.summary()"
   ]
  },
  {
   "cell_type": "code",
   "execution_count": 75,
   "metadata": {
    "collapsed": false
   },
   "outputs": [
    {
     "name": "stdout",
     "output_type": "stream",
     "text": [
      "_________________________________________________________________\n",
      "Layer (type)                 Output Shape              Param #   \n",
      "=================================================================\n",
      "input_7 (InputLayer)         (None, 28, 28, 1)         0         \n",
      "_________________________________________________________________\n",
      "conv2d_18 (Conv2D)           (None, 14, 14, 256)       6656      \n",
      "_________________________________________________________________\n",
      "dropout_4 (Dropout)          (None, 14, 14, 256)       0         \n",
      "_________________________________________________________________\n",
      "conv2d_19 (Conv2D)           (None, 7, 7, 512)         3277312   \n",
      "_________________________________________________________________\n",
      "dropout_5 (Dropout)          (None, 7, 7, 512)         0         \n",
      "_________________________________________________________________\n",
      "flatten_2 (Flatten)          (None, 25088)             0         \n",
      "_________________________________________________________________\n",
      "dense_8 (Dense)              (None, 256)               6422784   \n",
      "_________________________________________________________________\n",
      "dropout_6 (Dropout)          (None, 256)               0         \n",
      "_________________________________________________________________\n",
      "dense_9 (Dense)              (None, 2)                 514       \n",
      "=================================================================\n",
      "Total params: 9,707,266.0\n",
      "Trainable params: 0.0\n",
      "Non-trainable params: 9,707,266.0\n",
      "_________________________________________________________________\n"
     ]
    }
   ],
   "source": [
    "switch_training(discriminator, False)\n",
    "discriminator.summary()"
   ]
  },
  {
   "cell_type": "code",
   "execution_count": 76,
   "metadata": {
    "collapsed": false
   },
   "outputs": [
    {
     "name": "stdout",
     "output_type": "stream",
     "text": [
      "_________________________________________________________________\n",
      "Layer (type)                 Output Shape              Param #   \n",
      "=================================================================\n",
      "input_15 (InputLayer)        (None, 128)               0         \n",
      "_________________________________________________________________\n",
      "dense_16 (Dense)             (None, 19600)             2528400   \n",
      "_________________________________________________________________\n",
      "reshape_12 (Reshape)         (None, 14, 14, 100)       0         \n",
      "_________________________________________________________________\n",
      "up_sampling2d_11 (UpSampling (None, 28, 28, 100)       0         \n",
      "_________________________________________________________________\n",
      "conv2d_28 (Conv2D)           (None, 28, 28, 50)        45050     \n",
      "_________________________________________________________________\n",
      "batch_normalization_17 (Batc (None, 28, 28, 50)        200       \n",
      "_________________________________________________________________\n",
      "conv2d_29 (Conv2D)           (None, 28, 28, 25)        11275     \n",
      "_________________________________________________________________\n",
      "batch_normalization_18 (Batc (None, 28, 28, 25)        100       \n",
      "_________________________________________________________________\n",
      "conv2d_30 (Conv2D)           (None, 28, 28, 1)         26        \n",
      "_________________________________________________________________\n",
      "activation_7 (Activation)    (None, 28, 28, 1)         0         \n",
      "=================================================================\n",
      "Total params: 2,585,051.0\n",
      "Trainable params: 2,584,901.0\n",
      "Non-trainable params: 150.0\n",
      "_________________________________________________________________\n"
     ]
    }
   ],
   "source": [
    "generator.summary()"
   ]
  },
  {
   "cell_type": "code",
   "execution_count": 77,
   "metadata": {
    "collapsed": false
   },
   "outputs": [
    {
     "name": "stdout",
     "output_type": "stream",
     "text": [
      "_________________________________________________________________\n",
      "Layer (type)                 Output Shape              Param #   \n",
      "=================================================================\n",
      "input_16 (InputLayer)        (None, 128)               0         \n",
      "_________________________________________________________________\n",
      "model_10 (Model)             (None, 28, 28, 1)         2585051   \n",
      "_________________________________________________________________\n",
      "model_7 (Model)              (None, 2)                 9707266   \n",
      "=================================================================\n",
      "Total params: 12,292,317.0\n",
      "Trainable params: 2,584,901.0\n",
      "Non-trainable params: 9,707,416.0\n",
      "_________________________________________________________________\n"
     ]
    }
   ],
   "source": [
    "GAN.summary()"
   ]
  },
  {
   "cell_type": "code",
   "execution_count": 83,
   "metadata": {
    "collapsed": false,
    "scrolled": false
   },
   "outputs": [
    {
     "name": "stdout",
     "output_type": "stream",
     "text": [
      "Epoch:0, Steps Completed:      0\n",
      "Discriminator loss:  2.30873e-05  Generator loss:  0.0751128\n",
      "Epoch:1, Steps Completed:      0\n",
      "Discriminator loss:  3.01213e-05  Generator loss:  0.229592\n",
      "Epoch:2, Steps Completed:      0\n",
      "Discriminator loss:  0.000131809  Generator loss:  11.9219\n",
      "Epoch:3, Steps Completed:      0\n",
      "Discriminator loss:  5.20053e-05  Generator loss:  1.61188\n",
      "Epoch:4, Steps Completed:      0\n",
      "Discriminator loss:  1.87126e-05  Generator loss:  0.00561022\n",
      "Epoch:5, Steps Completed:      0\n",
      "Discriminator loss:  6.84664e-05  Generator loss:  11.9486\n",
      "Epoch:6, Steps Completed:      0\n",
      "Discriminator loss:  0.00270478  Generator loss:  0.049847\n",
      "Epoch:7, Steps Completed:      0\n",
      "Discriminator loss:  0.0711449  Generator loss:  0.361662\n",
      "Epoch:8, Steps Completed:      0\n",
      "Discriminator loss:  1.2219e-07  Generator loss:  15.9146\n",
      "Epoch:9, Steps Completed:      0\n",
      "Discriminator loss:  0.00053902  Generator loss:  0.0308287\n"
     ]
    }
   ],
   "source": [
    "for ep in range(10):\n",
    "    for i in range(100):\n",
    "        batch_xs, batch_ys = data.train.next_batch(batch_size)\n",
    "        \n",
    "        noisy_img = np.random.uniform(0,1,size=[batch_size, gen_input_dim])\n",
    "        gen_imgs = generator.predict(noisy_img)\n",
    "        \n",
    "        batch_xs = batch_xs.reshape((batch_size, 28, 28, 1))\n",
    "       \n",
    "        p = np.random.permutation(2*batch_size)\n",
    "        X=  np.concatenate([batch_xs, gen_imgs])\n",
    "        \n",
    "        y = np.zeros([2*batch_size,2])\n",
    "        y[:batch_size,1] = 1\n",
    "        y[batch_size:,0] = 1\n",
    "            \n",
    "        \n",
    "        switch_training(discriminator,True)\n",
    "        d_loss  = discriminator.train_on_batch(X[p],y[p])\n",
    "    \n",
    "        noise_input = np.random.uniform(0,1,size=[batch_size,gen_input_dim])\n",
    "        y = np.zeros([batch_size,2])\n",
    "        y[:,1] = 1\n",
    "        \n",
    "        \n",
    "        switch_training(discriminator,False)\n",
    "        g_loss = GAN.train_on_batch(noise_input, y )\n",
    "\n",
    "        if i % (batch_size*10) == 0:\n",
    "            print('Epoch:%d, Steps Completed: %6d' % (ep,i))\n",
    "\n",
    "            print('Discriminator loss: ', d_loss, ' Generator loss: ', g_loss)"
   ]
  },
  {
   "cell_type": "code",
   "execution_count": 89,
   "metadata": {
    "collapsed": false
   },
   "outputs": [],
   "source": [
    "noise_input = np.random.uniform(0,1,size=[batch_size,gen_input_dim])\n",
    "output = generator.predict(noise_input)"
   ]
  },
  {
   "cell_type": "code",
   "execution_count": 87,
   "metadata": {
    "collapsed": false
   },
   "outputs": [],
   "source": [
    "%matplotlib inline\n",
    "import matplotlib.pyplot as plt"
   ]
  },
  {
   "cell_type": "code",
   "execution_count": 92,
   "metadata": {
    "collapsed": false
   },
   "outputs": [
    {
     "data": {
      "image/png": "[encoded data removed]",
      "text/plain": [
       "<matplotlib.figure.Figure at 0x14d15e799b0>"
      ]
     },
     "metadata": {},
     "output_type": "display_data"
    }
   ],
   "source": [
    "plt.figure(figsize=(8, 12))\n",
    "for i in range(10):\n",
    "    plt.subplot(10, 3, 3*i+1)\n",
    "    plt.imshow(output[3*i].reshape(28, 28), vmin=0, vmax=1, cmap=\"gray\")\n",
    "    \n",
    "    plt.subplot(10, 3, 3*i+2)\n",
    "    plt.imshow(output[3*i+1].reshape(28, 28), vmin=0, vmax=1, cmap=\"gray\")\n",
    "    \n",
    "    plt.subplot(10, 3, 3*i+3)\n",
    "    plt.imshow(output[3*i+2].reshape(28, 28), vmin=0, vmax=1, cmap=\"gray\")\n",
    "    \n",
    "    "
   ]
  },
  {
   "cell_type": "code",
   "execution_count": null,
   "metadata": {
    "collapsed": true
   },
   "outputs": [],
   "source": []
  }
 ],
 "metadata": {
  "anaconda-cloud": {},
  "kernelspec": {
   "display_name": "Python [conda env:tensorflow-gpu]",
   "language": "python",
   "name": "conda-env-tensorflow-gpu-py"
  },
  "language_info": {
   "codemirror_mode": {
    "name": "ipython",
    "version": 3
   },
   "file_extension": ".py",
   "mimetype": "text/x-python",
   "name": "python",
   "nbconvert_exporter": "python",
   "pygments_lexer": "ipython3",
   "version": "3.5.2"
  }
 },
 "nbformat": 4,
 "nbformat_minor": 1
}
