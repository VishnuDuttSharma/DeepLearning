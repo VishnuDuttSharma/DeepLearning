{
 "cells": [
  {
   "cell_type": "code",
   "execution_count": 1,
   "metadata": {
    "collapsed": true
   },
   "outputs": [],
   "source": [
    "from __future__ import print_function"
   ]
  },
  {
   "cell_type": "code",
   "execution_count": 2,
   "metadata": {
    "collapsed": true
   },
   "outputs": [],
   "source": [
    "import numpy as np"
   ]
  },
  {
   "cell_type": "code",
   "execution_count": 36,
   "metadata": {
    "collapsed": false
   },
   "outputs": [],
   "source": [
    "from keras.models import Model\n",
    "from keras.layers import Input,Dense,BatchNormalization,Reshape, Convolution2D, Activation, Flatten, UpSampling2D,Dropout"
   ]
  },
  {
   "cell_type": "code",
   "execution_count": 43,
   "metadata": {
    "collapsed": true
   },
   "outputs": [],
   "source": [
    "gen_input_dim = 128\n",
    "batch_size=100\n",
    "drop_rate = 0.2\n",
    "img_shape = [28,28,1]"
   ]
  },
  {
   "cell_type": "code",
   "execution_count": 17,
   "metadata": {
    "collapsed": true
   },
   "outputs": [],
   "source": [
    "def switch_training(model, is_trainable):\n",
    "    model.trainable = is_trainable\n",
    "    for layer in model.layers:\n",
    "        layer.trainable = is_trainable"
   ]
  },
  {
   "cell_type": "code",
   "execution_count": 30,
   "metadata": {
    "collapsed": false
   },
   "outputs": [
    {
     "name": "stderr",
     "output_type": "stream",
     "text": [
      "C:\\Users\\Vishnu\\Anaconda3\\envs\\tensorflow-gpu\\lib\\site-packages\\ipykernel\\__main__.py:7: UserWarning: Update your `Conv2D` call to the Keras 2 API: `Conv2D(50, (3, 3), padding=\"same\")`\n",
      "C:\\Users\\Vishnu\\Anaconda3\\envs\\tensorflow-gpu\\lib\\site-packages\\ipykernel\\__main__.py:9: UserWarning: Update your `Conv2D` call to the Keras 2 API: `Conv2D(25, (3, 3), padding=\"same\")`\n",
      "C:\\Users\\Vishnu\\Anaconda3\\envs\\tensorflow-gpu\\lib\\site-packages\\ipykernel\\__main__.py:11: UserWarning: Update your `Conv2D` call to the Keras 2 API: `Conv2D(1, (1, 1), padding=\"same\")`\n"
     ]
    }
   ],
   "source": [
    "\n",
    "num_channel = 100\n",
    "input_data = Input(shape=[gen_input_dim])\n",
    "X = Dense(num_channel*14*14, activation='relu')(input_data)\n",
    "X = Reshape([num_channel,14,14])(X)\n",
    "X = UpSampling2D(size=(2,2))(X)\n",
    "X = Convolution2D(int(num_channel/2), 3, 3, border_mode='same')(X)\n",
    "X = BatchNormalization()(X)\n",
    "X = Convolution2D(int(num_channel/4), 3, 3, border_mode='same')(X)\n",
    "X = BatchNormalization()(X)\n",
    "X = Convolution2D(1, 1, 1, border_mode='same')(X)\n",
    "Y = Activation('sigmoid')(X)\n",
    "\n",
    "generator = Model(inputs=[input_data], outputs=Y )\n",
    "generator.compile(optimizer=\"adam\", loss=\"binary_crossentropy\")\n",
    "    \n"
   ]
  },
  {
   "cell_type": "code",
   "execution_count": 44,
   "metadata": {
    "collapsed": false
   },
   "outputs": [
    {
     "name": "stderr",
     "output_type": "stream",
     "text": [
      "C:\\Users\\Vishnu\\Anaconda3\\envs\\tensorflow-gpu\\lib\\site-packages\\ipykernel\\__main__.py:3: UserWarning: Update your `Conv2D` call to the Keras 2 API: `Conv2D(256, (5, 5), strides=(2, 2), activation=\"relu\", padding=\"same\")`\n",
      "  app.launch_new_instance()\n",
      "C:\\Users\\Vishnu\\Anaconda3\\envs\\tensorflow-gpu\\lib\\site-packages\\ipykernel\\__main__.py:5: UserWarning: Update your `Conv2D` call to the Keras 2 API: `Conv2D(512, (5, 5), strides=(2, 2), activation=\"relu\", padding=\"same\")`\n"
     ]
    }
   ],
   "source": [
    "\n",
    "input_data = Input(shape=img_shape)\n",
    "X = Convolution2D(256, 5, 5, subsample=(2, 2), border_mode = 'same', activation='relu')(input_data)\n",
    "X = Dropout(drop_rate)(X)\n",
    "X = Convolution2D(512, 5, 5, subsample=(2, 2), border_mode = 'same', activation='relu')(X)\n",
    "X = Dropout(drop_rate)(X)\n",
    "X = Flatten()(X)\n",
    "X = Dense(256, activation='relu')(X)\n",
    "X = Dropout(drop_rate)(X)\n",
    "Y = Dense(2,activation='softmax')(X)\n",
    "\n",
    "discriminator = Model(inputs=[input_data], outputs=Y)\n",
    "discriminator.compile(loss='categorical_crossentropy', optimizer=\"adam\")\n",
    "\n",
    "\n",
    "    \n"
   ]
  },
  {
   "cell_type": "code",
   "execution_count": 45,
   "metadata": {
    "collapsed": false
   },
   "outputs": [],
   "source": [
    "\n",
    "\n",
    "switch_training(discriminator, False)\n",
    "\n",
    "input_data = Input(shape=[gen_input_dim])\n",
    "X = generator(input_data)\n",
    "Y = discriminator(X)\n",
    "GAN = Model(inputs=input_data, outputs=Y)\n",
    "GAN.compile(loss='categorical_crossentropy', optimizer=\"adam\")\n"
   ]
  },
  {
   "cell_type": "code",
   "execution_count": null,
   "metadata": {
    "collapsed": true
   },
   "outputs": [],
   "source": []
  }
 ],
 "metadata": {
  "anaconda-cloud": {},
  "kernelspec": {
   "display_name": "Python [conda env:tensorflow-gpu]",
   "language": "python",
   "name": "conda-env-tensorflow-gpu-py"
  },
  "language_info": {
   "codemirror_mode": {
    "name": "ipython",
    "version": 3
   },
   "file_extension": ".py",
   "mimetype": "text/x-python",
   "name": "python",
   "nbconvert_exporter": "python",
   "pygments_lexer": "ipython3",
   "version": "3.5.2"
  }
 },
 "nbformat": 4,
 "nbformat_minor": 1
}
