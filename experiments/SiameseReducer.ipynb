{
 "cells": [
  {
   "cell_type": "code",
   "execution_count": 1,
   "metadata": {
    "collapsed": true
   },
   "outputs": [],
   "source": [
    "%matplotlib inline\n",
    "import tensorflow as tf\n",
    "import numpy as np\n",
    "from matplotlib import pyplot as plt"
   ]
  },
  {
   "cell_type": "code",
   "execution_count": 50,
   "metadata": {
    "collapsed": true
   },
   "outputs": [],
   "source": [
    "X_train_l = np.random.randint(0,8, size=(10000))\n",
    "X_train_r = np.random.randint(0,8, size=(10000))"
   ]
  },
  {
   "cell_type": "code",
   "execution_count": 3,
   "metadata": {
    "collapsed": true
   },
   "outputs": [],
   "source": [
    "X1 = tf.placeholder(shape=[None], dtype=tf.int32)\n",
    "Y1 = tf.placeholder(shape=[None], dtype=tf.int32)\n",
    "X2 = tf.placeholder(shape=[None], dtype=tf.int32)\n",
    "Y2 = tf.placeholder(shape=[None], dtype=tf.int32)"
   ]
  },
  {
   "cell_type": "code",
   "execution_count": 13,
   "metadata": {
    "collapsed": false
   },
   "outputs": [],
   "source": [
    "with tf.variable_scope(\"model\"):\n",
    "    Wfl1 = tf.get_variable(name=\"for1w\", initializer=tf.random_normal([8,3]) )\n",
    "    bfl1 = tf.get_variable(name=\"for1b\", initializer=tf.random_normal([3]) )\n",
    "    Wfl2 = tf.get_variable(name=\"for2w\", initializer=tf.random_normal([3,8]) )\n",
    "    bfl2 = tf.get_variable(name=\"for2b\", initializer=tf.random_normal([8]) )\n",
    "\n",
    "with tf.variable_scope(\"model\", reuse=True):\n",
    "    Wfr1 = tf.get_variable(name=\"for1w\")\n",
    "    bfr1 = tf.get_variable(name=\"for1b\")\n",
    "    Wfr2 = tf.get_variable(name=\"for2w\")\n",
    "    bfr2 = tf.get_variable(name=\"for2b\")"
   ]
  },
  {
   "cell_type": "code",
   "execution_count": 34,
   "metadata": {
    "collapsed": false
   },
   "outputs": [],
   "source": [
    "X_oh_1 = tf.one_hot(X1, depth=8)\n",
    "X_oh_2 = tf.one_hot(X2, depth=8)\n",
    "\n",
    "emb1 = tf.nn.xw_plus_b(X_oh_1, Wfl1, bfl1)\n",
    "emb2 = tf.nn.xw_plus_b(X_oh_2, Wfr1, bfr1)\n",
    "\n",
    "out1 = tf.nn.xw_plus_b(emb1, Wfl2, bfl2)\n",
    "out2 = tf.nn.xw_plus_b(emb2, Wfr2, bfr2)\n",
    "\n",
    "loss_l = tf.nn.sparse_softmax_cross_entropy_with_logits(logits=out1, labels=Y1)\n",
    "loss_r = tf.nn.sparse_softmax_cross_entropy_with_logits(logits=out2, labels=Y2)\n",
    "\n",
    "cos = int(not( (X1 <=4) == (X2<=4)))*1 - tf.matmul(emb1, tf.transpose(emb2)) / (tf.norm(emb1) * tf.norm(emb2))\n",
    "\n",
    "train_step = tf.train.AdamOptimizer(1e-4).minimize(loss_l + loss_r + cos)\n"
   ]
  },
  {
   "cell_type": "code",
   "execution_count": 47,
   "metadata": {
    "collapsed": true
   },
   "outputs": [],
   "source": [
    "batch_size = 100\n",
    "num_step = int(10000/batch_size)\n",
    "sess = tf.Session()"
   ]
  },
  {
   "cell_type": "code",
   "execution_count": 51,
   "metadata": {
    "collapsed": false,
    "scrolled": true
   },
   "outputs": [],
   "source": [
    "sess.run(tf.global_variables_initializer())\n",
    "for i in range(1000):\n",
    "    np.random.shuffle(X_train_l)\n",
    "    np.random.shuffle(X_train_r)\n",
    "    for j in range(num_step):\n",
    "        train_step.run(session=sess, feed_dict={X1: X_train_l[j*100:(j+1)*100], X2: X_train_r[j*100:(j+1)*100], Y1:X_train_l[j*100:(j+1)*100], Y2:X_train_r[j*100:(j+1)*100]})"
   ]
  },
  {
   "cell_type": "code",
   "execution_count": 56,
   "metadata": {
    "collapsed": false
   },
   "outputs": [],
   "source": [
    "\n",
    "output = emb1.eval(session=sess, feed_dict={X1:np.asarray([0,1,2,3,4,5,6,7])})\n",
    "output"
   ]
  },
  {
   "cell_type": "code",
   "execution_count": 63,
   "metadata": {
    "collapsed": false
   },
   "outputs": [],
   "source": [
    "colors = ['green', 'green', 'green', 'green', 'red', 'red','red', 'red']"
   ]
  },
  {
   "cell_type": "code",
   "execution_count": 58,
   "metadata": {
    "collapsed": false
   },
   "outputs": [
    {
     "name": "stdout",
     "output_type": "stream",
     "text": [
      "[[  9.08053684  12.29229736   1.47352552]\n",
      " [  8.46389008  10.98991394   6.17677021]\n",
      " [  5.60169792  14.51283455   4.14838457]\n",
      " [  5.32884073  13.34788513   1.395509  ]\n",
      " [  7.88456249  14.05049992   5.70275402]\n",
      " [  9.74036121  12.58763027   4.21694851]\n",
      " [  5.11827517  12.39102554   6.33042049]\n",
      " [  8.04978371  14.63461399   3.09493732]]\n"
     ]
    }
   ],
   "source": [
    "output = emb1.eval(session=sess, feed_dict={X1:np.asarray([0,1,2,3,4,5,6,7])})\n",
    "print(output)"
   ]
  },
  {
   "cell_type": "code",
   "execution_count": 89,
   "metadata": {
    "collapsed": true
   },
   "outputs": [],
   "source": [
    "for i in range(output.shape[0]):\n",
    "    asm = np.sum(output[i])\n",
    "    output[i] = output[i] - (asm/3.0)"
   ]
  },
  {
   "cell_type": "code",
   "execution_count": 90,
   "metadata": {
    "collapsed": false
   },
   "outputs": [
    {
     "data": {
      "text/plain": [
       "<mpl_toolkits.mplot3d.art3d.Path3DCollection at 0x25acc244da0>"
      ]
     },
     "execution_count": 90,
     "metadata": {},
     "output_type": "execute_result"
    },
    {
     "data": {
      "image/png": "[encoded data removed]",
      "text/plain": [
       "<matplotlib.figure.Figure at 0x25aff625dd8>"
      ]
     },
     "metadata": {},
     "output_type": "display_data"
    }
   ],
   "source": [
    "import matplotlib.pyplot as plt\n",
    "from mpl_toolkits.mplot3d import Axes3D\n",
    "import numpy as np\n",
    "fig = plt.figure()\n",
    "ax = fig.add_subplot(111, projection='3d')\n",
    "ax.scatter( xs=output[:,0], ys=output[:,1], zs=output[:,2], c=colors)"
   ]
  },
  {
   "cell_type": "code",
   "execution_count": 92,
   "metadata": {
    "collapsed": false
   },
   "outputs": [
    {
     "data": {
      "text/plain": [
       "<matplotlib.collections.PathCollection at 0x25aff4ec9e8>"
      ]
     },
     "execution_count": 92,
     "metadata": {},
     "output_type": "execute_result"
    },
    {
     "data": {
      "image/png": "[encoded data removed]",
      "text/plain": [
       "<matplotlib.figure.Figure at 0x25acc2537f0>"
      ]
     },
     "metadata": {},
     "output_type": "display_data"
    }
   ],
   "source": [
    "plt.scatter( x=output[:,0], y=output[:,1],  c=colors)"
   ]
  },
  {
   "cell_type": "code",
   "execution_count": 95,
   "metadata": {
    "collapsed": false
   },
   "outputs": [
    {
     "data": {
      "text/plain": [
       "<matplotlib.collections.PathCollection at 0x25aff592be0>"
      ]
     },
     "execution_count": 95,
     "metadata": {},
     "output_type": "execute_result"
    },
    {
     "data": {
      "image/png": "[encoded data removed]",
      "text/plain": [
       "<matplotlib.figure.Figure at 0x25acc285e80>"
      ]
     },
     "metadata": {},
     "output_type": "display_data"
    }
   ],
   "source": [
    "plt.scatter(x=output[:,0], y=output[:,2], c=colors)"
   ]
  },
  {
   "cell_type": "code",
   "execution_count": 97,
   "metadata": {
    "collapsed": false
   },
   "outputs": [
    {
     "data": {
      "text/plain": [
       "<matplotlib.collections.PathCollection at 0x25aff5fc080>"
      ]
     },
     "execution_count": 97,
     "metadata": {},
     "output_type": "execute_result"
    },
    {
     "data": {
      "image/png": "[encoded data removed]",
      "text/plain": [
       "<matplotlib.figure.Figure at 0x25aff56d588>"
      ]
     },
     "metadata": {},
     "output_type": "display_data"
    }
   ],
   "source": [
    "plt.scatter( x=output[:,1], y=output[:,2], c=colors)"
   ]
  },
  {
   "cell_type": "code",
   "execution_count": null,
   "metadata": {
    "collapsed": true
   },
   "outputs": [],
   "source": [
    "sess.close()"
   ]
  }
 ],
 "metadata": {
  "kernelspec": {
   "display_name": "Python [conda env:tensorflow-gpu]",
   "language": "python",
   "name": "conda-env-tensorflow-gpu-py"
  },
  "language_info": {
   "codemirror_mode": {
    "name": "ipython",
    "version": 3
   },
   "file_extension": ".py",
   "mimetype": "text/x-python",
   "name": "python",
   "nbconvert_exporter": "python",
   "pygments_lexer": "ipython3",
   "version": "3.5.2"
  }
 },
 "nbformat": 4,
 "nbformat_minor": 1
}
