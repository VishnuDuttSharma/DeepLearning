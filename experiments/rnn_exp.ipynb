{
 "cells": [
  {
   "cell_type": "code",
   "execution_count": 33,
   "metadata": {
    "collapsed": false
   },
   "outputs": [],
   "source": [
    "%matplotlib inline\n",
    "from __future__ import print_function, division\n",
    "import numpy as np\n",
    "import tensorflow as tf\n",
    "import matplotlib.pyplot as plt"
   ]
  },
  {
   "cell_type": "code",
   "execution_count": 34,
   "metadata": {
    "collapsed": true
   },
   "outputs": [],
   "source": [
    "num_epochs = 10\n",
    "total_series_length = 50000\n",
    "truncated_backprop_length = 15\n",
    "state_size = 4\n",
    "num_classes = 2\n",
    "echo_step = 3\n",
    "batch_size = 5"
   ]
  },
  {
   "cell_type": "code",
   "execution_count": 35,
   "metadata": {
    "collapsed": true
   },
   "outputs": [],
   "source": [
    "num_batches = total_series_length//batch_size//truncated_backprop_length"
   ]
  },
  {
   "cell_type": "code",
   "execution_count": 36,
   "metadata": {
    "collapsed": true
   },
   "outputs": [],
   "source": [
    "def generateData():\n",
    "    x = np.array( np.random.choice(2, total_series_length, p = [0.5, 0.5]) )\n",
    "    y = np.roll(x, echo_step)\n",
    "    y[0: echo_step] = 0\n",
    "    x = x.reshape((batch_size, -1))\n",
    "    y = y.reshape((batch_size, -1))\n",
    "    \n",
    "    return(x, y)"
   ]
  },
  {
   "cell_type": "code",
   "execution_count": 37,
   "metadata": {
    "collapsed": true
   },
   "outputs": [],
   "source": [
    "def plot(loss_list, predictions_series, batchX, batchY):\n",
    "    plt.subplot(2, 3, 1)\n",
    "    plt.cla()\n",
    "    plt.plot(loss_list)\n",
    "\n",
    "    for batch_series_idx in range(5):\n",
    "        one_hot_output_series = np.array(predictions_series)[:, batch_series_idx, :]\n",
    "        single_output_series = np.array([(1 if out[0] < 0.5 else 0) for out in one_hot_output_series])\n",
    "\n",
    "        plt.subplot(2, 3, batch_series_idx + 2)\n",
    "        plt.cla()\n",
    "        plt.axis([0, truncated_backprop_length, 0, 2])\n",
    "        left_offset = range(truncated_backprop_length)\n",
    "        plt.bar(left_offset, batchX[batch_series_idx, :], width=1, color=\"blue\")\n",
    "        plt.bar(left_offset, batchY[batch_series_idx, :] * 0.5, width=1, color=\"red\")\n",
    "        plt.bar(left_offset, single_output_series * 0.3, width=1, color=\"green\")\n",
    "\n",
    "    plt.draw()\n",
    "    plt.pause(0.0001)"
   ]
  },
  {
   "cell_type": "code",
   "execution_count": 38,
   "metadata": {
    "collapsed": true
   },
   "outputs": [],
   "source": [
    "batchX_placeholder = tf.placeholder(tf.float32, [batch_size, truncated_backprop_length])\n",
    "batchY_placeholder = tf.placeholder(tf.int32, [batch_size, truncated_backprop_length])\n",
    "\n",
    "init_state = tf.placeholder(tf.float32, [batch_size, state_size])"
   ]
  },
  {
   "cell_type": "code",
   "execution_count": 39,
   "metadata": {
    "collapsed": false
   },
   "outputs": [],
   "source": [
    "W = tf.Variable(np.random.rand(state_size+1, state_size), dtype=tf.float32)\n",
    "b1 = tf.Variable(np.zeros((1,state_size)), dtype=tf.float32)\n",
    "\n",
    "U = tf.Variable(np.random.rand(state_size, num_classes),dtype=tf.float32)\n",
    "b2 = tf.Variable(np.zeros((1,num_classes)), dtype=tf.float32)"
   ]
  },
  {
   "cell_type": "code",
   "execution_count": 40,
   "metadata": {
    "collapsed": false
   },
   "outputs": [],
   "source": [
    "inputs_series = tf.unstack(batchX_placeholder, axis=1)\n",
    "labels_series = tf.unstack(batchY_placeholder, axis=1)"
   ]
  },
  {
   "cell_type": "code",
   "execution_count": 41,
   "metadata": {
    "collapsed": false
   },
   "outputs": [],
   "source": [
    "current_state = init_state\n",
    "states_series = []\n",
    "for current_input in inputs_series:\n",
    "    current_input = tf.reshape(current_input, [batch_size, 1])\n",
    "    input_and_state_concatenated = tf.concat([current_input, current_state], 1)  \n",
    "\n",
    "    next_state = tf.tanh(tf.matmul(input_and_state_concatenated, W) + b1)  \n",
    "    states_series.append(next_state)\n",
    "    current_state = next_state"
   ]
  },
  {
   "cell_type": "code",
   "execution_count": 42,
   "metadata": {
    "collapsed": false
   },
   "outputs": [],
   "source": [
    "logits_series = [tf.matmul(state, U) + b2 for state in states_series] \n",
    "predictions_series = [tf.nn.softmax(logits) for logits in logits_series]\n",
    "\n",
    "losses = [tf.nn.sparse_softmax_cross_entropy_with_logits(logits=logits, labels=labels) for logits, labels in zip(logits_series,labels_series)]\n",
    "total_loss = tf.reduce_mean(losses)\n",
    "\n",
    "train_step = tf.train.AdagradOptimizer(0.3).minimize(total_loss)"
   ]
  },
  {
   "cell_type": "code",
   "execution_count": 43,
   "metadata": {
    "collapsed": false
   },
   "outputs": [
    {
     "name": "stdout",
     "output_type": "stream",
     "text": [
      "WARNING:tensorflow:From <ipython-input-43-081f153bf0a5>:2: initialize_all_variables (from tensorflow.python.ops.variables) is deprecated and will be removed after 2017-03-02.\n",
      "Instructions for updating:\n",
      "Use `tf.global_variables_initializer` instead.\n"
     ]
    },
    {
     "data": {
      "text/plain": [
       "<matplotlib.figure.Figure at 0x22b431794e0>"
      ]
     },
     "metadata": {},
     "output_type": "display_data"
    },
    {
     "name": "stdout",
     "output_type": "stream",
     "text": [
      "New data, epoch 0\n",
      "Step 0 Loss 0.681129\n",
      "Step 100 Loss 0.690781\n",
      "Step 200 Loss 0.691098\n",
      "Step 300 Loss 0.703408\n",
      "Step 400 Loss 0.692798\n",
      "Step 500 Loss 0.706435\n",
      "Step 600 Loss 0.686061\n",
      "New data, epoch 1\n",
      "Step 0 Loss 0.701964\n",
      "Step 100 Loss 0.693368\n",
      "Step 200 Loss 0.713209\n",
      "Step 300 Loss 0.691376\n",
      "Step 400 Loss 0.697258\n",
      "Step 500 Loss 0.694351\n",
      "Step 600 Loss 0.680446\n",
      "New data, epoch 2\n",
      "Step 0 Loss 0.688215\n",
      "Step 100 Loss 0.694633\n",
      "Step 200 Loss 0.694129\n",
      "Step 300 Loss 0.690033\n",
      "Step 400 Loss 0.693825\n",
      "Step 500 Loss 0.692504\n",
      "Step 600 Loss 0.581484\n",
      "New data, epoch 3\n",
      "Step 0 Loss 0.272184\n",
      "Step 100 Loss 0.0311733\n",
      "Step 200 Loss 0.0181862\n",
      "Step 300 Loss 0.0109338\n",
      "Step 400 Loss 0.00804644\n",
      "Step 500 Loss 0.00652453\n",
      "Step 600 Loss 0.00533772\n",
      "New data, epoch 4\n",
      "Step 0 Loss 0.199472\n",
      "Step 100 Loss 0.00461831\n",
      "Step 200 Loss 0.00401595\n",
      "Step 300 Loss 0.00318732\n",
      "Step 400 Loss 0.004229\n",
      "Step 500 Loss 0.00354821\n",
      "Step 600 Loss 0.00283833\n",
      "New data, epoch 5\n",
      "Step 0 Loss 0.143899\n",
      "Step 100 Loss 0.0023703\n",
      "Step 200 Loss 0.00281858\n",
      "Step 300 Loss 0.00196916\n",
      "Step 400 Loss 0.0019802\n",
      "Step 500 Loss 0.00179588\n",
      "Step 600 Loss 0.0019103\n",
      "New data, epoch 6\n",
      "Step 0 Loss 0.285086\n",
      "Step 100 Loss 0.00270485\n",
      "Step 200 Loss 0.00245258\n",
      "Step 300 Loss 0.00206818\n",
      "Step 400 Loss 0.00172544\n",
      "Step 500 Loss 0.0016814\n",
      "Step 600 Loss 0.00151108\n",
      "New data, epoch 7\n",
      "Step 0 Loss 0.217177\n",
      "Step 100 Loss 0.00220632\n",
      "Step 200 Loss 0.0016909\n",
      "Step 300 Loss 0.00159243\n",
      "Step 400 Loss 0.00145271\n",
      "Step 500 Loss 0.00113495\n",
      "Step 600 Loss 0.00140652\n",
      "New data, epoch 8\n",
      "Step 0 Loss 0.320976\n",
      "Step 100 Loss 0.00136232\n",
      "Step 200 Loss 0.00097609\n",
      "Step 300 Loss 0.000844299\n",
      "Step 400 Loss 0.000981379\n",
      "Step 500 Loss 0.00104771\n",
      "Step 600 Loss 0.0008539\n",
      "New data, epoch 9\n",
      "Step 0 Loss 0.466021\n",
      "Step 100 Loss 0.00128622\n",
      "Step 200 Loss 0.00101339\n",
      "Step 300 Loss 0.001056\n",
      "Step 400 Loss 0.000962713\n",
      "Step 500 Loss 0.000885828\n",
      "Step 600 Loss 0.000743623\n"
     ]
    },
    {
     "data": {
      "image/png": "[encoded data removed]",
      "text/plain": [
       "<matplotlib.figure.Figure at 0x22b845da6d8>"
      ]
     },
     "metadata": {},
     "output_type": "display_data"
    }
   ],
   "source": [
    "with tf.Session() as sess:\n",
    "    sess.run(tf.initialize_all_variables())\n",
    "    plt.ion()\n",
    "    plt.figure()\n",
    "    plt.show()\n",
    "    loss_list = []\n",
    "\n",
    "    for epoch_idx in range(num_epochs):\n",
    "        x,y = generateData()\n",
    "        _current_state = np.zeros((batch_size, state_size))\n",
    "\n",
    "        print(\"New data, epoch\", epoch_idx)\n",
    "\n",
    "        for batch_idx in range(num_batches):\n",
    "            start_idx = batch_idx * truncated_backprop_length\n",
    "            end_idx = start_idx + truncated_backprop_length\n",
    "\n",
    "            batchX = x[:,start_idx:end_idx]\n",
    "            batchY = y[:,start_idx:end_idx]\n",
    "\n",
    "            _total_loss, _train_step, _current_state, _predictions_series = sess.run(\n",
    "                [total_loss, train_step, current_state, predictions_series],\n",
    "                feed_dict={\n",
    "                    batchX_placeholder:batchX,\n",
    "                    batchY_placeholder:batchY,\n",
    "                    init_state:_current_state\n",
    "                })\n",
    "\n",
    "            loss_list.append(_total_loss)\n",
    "\n",
    "            if batch_idx%100 == 0:\n",
    "                print(\"Step\",batch_idx, \"Loss\", _total_loss)\n",
    "                plot(loss_list, _predictions_series, batchX, batchY)\n",
    "\n",
    "plt.ioff()\n",
    "plt.show()"
   ]
  },
  {
   "cell_type": "code",
   "execution_count": null,
   "metadata": {
    "collapsed": false
   },
   "outputs": [],
   "source": []
  }
 ],
 "metadata": {
  "anaconda-cloud": {},
  "kernelspec": {
   "display_name": "Python [conda env:tensorflow-gpu]",
   "language": "python",
   "name": "conda-env-tensorflow-gpu-py"
  },
  "language_info": {
   "codemirror_mode": {
    "name": "ipython",
    "version": 3
   },
   "file_extension": ".py",
   "mimetype": "text/x-python",
   "name": "python",
   "nbconvert_exporter": "python",
   "pygments_lexer": "ipython3",
   "version": "3.5.2"
  }
 },
 "nbformat": 4,
 "nbformat_minor": 1
}
