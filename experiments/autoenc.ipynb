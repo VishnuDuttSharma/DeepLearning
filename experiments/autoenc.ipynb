{
 "cells": [
  {
   "cell_type": "code",
   "execution_count": 1,
   "metadata": {
    "collapsed": true
   },
   "outputs": [],
   "source": [
    "from __future__ import absolute_import\n",
    "from __future__ import print_function"
   ]
  },
  {
   "cell_type": "code",
   "execution_count": 2,
   "metadata": {
    "collapsed": true
   },
   "outputs": [],
   "source": [
    "%matplotlib inline\n",
    "import tensorflow as tf\n",
    "import numpy as np\n",
    "from matplotlib import pyplot as plt"
   ]
  },
  {
   "cell_type": "code",
   "execution_count": 3,
   "metadata": {
    "collapsed": true
   },
   "outputs": [],
   "source": [
    "from tensorflow.examples.tutorials.mnist import input_data"
   ]
  },
  {
   "cell_type": "code",
   "execution_count": 4,
   "metadata": {
    "collapsed": false
   },
   "outputs": [
    {
     "name": "stdout",
     "output_type": "stream",
     "text": [
      "Extracting ../data_mnist/train-images-idx3-ubyte.gz\n",
      "Extracting ../data_mnist/train-labels-idx1-ubyte.gz\n",
      "Extracting ../data_mnist/t10k-images-idx3-ubyte.gz\n",
      "Extracting ../data_mnist/t10k-labels-idx1-ubyte.gz\n"
     ]
    }
   ],
   "source": [
    "data = input_data.read_data_sets(\"../data_mnist/\", one_hot=True)"
   ]
  },
  {
   "cell_type": "code",
   "execution_count": 5,
   "metadata": {
    "collapsed": false
   },
   "outputs": [],
   "source": [
    "X = tf.placeholder(shape=[None, 784], dtype=tf.float32)\n",
    "y_ = tf.placeholder(shape=[None, 10], dtype=tf.float32)"
   ]
  },
  {
   "cell_type": "code",
   "execution_count": 6,
   "metadata": {
    "collapsed": false
   },
   "outputs": [],
   "source": [
    "W_enc_1 = tf.Variable(tf.random_normal([784,392]))\n",
    "b_enc_1 = tf.Variable(tf.random_normal([392]))\n",
    "\n",
    "W_enc_2 = tf.Variable(tf.random_normal([392,196]))\n",
    "b_enc_2 = tf.Variable(tf.random_normal([196]))"
   ]
  },
  {
   "cell_type": "code",
   "execution_count": 7,
   "metadata": {
    "collapsed": false
   },
   "outputs": [],
   "source": [
    "W_dec_1 = tf.Variable(tf.random_normal([196,392]))\n",
    "b_dec_1 = tf.Variable(tf.random_normal([392]))\n",
    "\n",
    "W_dec_2 = tf.Variable(tf.random_normal([392,784]))\n",
    "b_dec_2 = tf.Variable(tf.random_normal([784]))"
   ]
  },
  {
   "cell_type": "code",
   "execution_count": 8,
   "metadata": {
    "collapsed": true
   },
   "outputs": [],
   "source": [
    "out_1   = tf.nn.relu(tf.matmul(X, W_enc_1) + b_enc_1 )\n",
    "encoder = tf.nn.relu(tf.matmul(out_1, W_enc_2) + b_enc_2)\n",
    "\n",
    "decoder = tf.nn.relu(tf.matmul(encoder, W_dec_1) + b_dec_1)\n",
    "y      = tf.nn.relu(tf.matmul(decoder, W_dec_2) + b_dec_2)"
   ]
  },
  {
   "cell_type": "code",
   "execution_count": 9,
   "metadata": {
    "collapsed": false
   },
   "outputs": [],
   "source": [
    "loss = tf.losses.mean_squared_error(labels=X, predictions=y)\n",
    "train_step = tf.train.AdamOptimizer(0.1).minimize(loss)"
   ]
  },
  {
   "cell_type": "code",
   "execution_count": null,
   "metadata": {
    "collapsed": false
   },
   "outputs": [],
   "source": []
  },
  {
   "cell_type": "code",
   "execution_count": 11,
   "metadata": {
    "collapsed": false,
    "scrolled": false
   },
   "outputs": [
    {
     "name": "stdout",
     "output_type": "stream",
     "text": [
      "Training...\n",
      " Step, Loss =      0: 8159485.500\n",
      " Step, Loss =   1000:  0.111\n",
      " Step, Loss =   2000:  0.113\n",
      " Step, Loss =   3000:  0.111\n",
      " Step, Loss =   4000:  0.109\n",
      " Step, Loss =   5000:  0.114\n",
      " Step, Loss =   6000:  0.115\n",
      " Step, Loss =   7000:  0.117\n",
      " Step, Loss =   8000:  0.106\n",
      " Step, Loss =   9000:  0.119\n",
      " Step, Loss =  10000:  0.115\n"
     ]
    }
   ],
   "source": [
    "init = tf.global_variables_initializer()\n",
    "\n",
    "with tf.Session() as sess:\n",
    "    sess.run(init)\n",
    "    print('Training...')\n",
    "    for i in range(10001):\n",
    "        batch_xs, batch_ys = data.train.next_batch(128)\n",
    "        train_step.run({X: batch_xs, y_: batch_ys})\n",
    "        \n",
    "        if i % 1000 == 0:\n",
    "            training_loss = loss.eval({X: batch_xs, y_: batch_ys})\n",
    "            print(' Step, Loss = %6d: %6.3f' % (i, training_loss))\n",
    "            \n",
    "    output = encoder.eval({X: data.test.images, y_:data.test.labels})\n"
   ]
  },
  {
   "cell_type": "code",
   "execution_count": 21,
   "metadata": {
    "collapsed": false
   },
   "outputs": [],
   "source": [
    "np.savetxt('C:/Users/Vishnu/Desktop/data.tsv', output, delimiter='\\t')\n",
    "with open('C:/Users/Vishnu/Desktop/meta.txt', 'w') as fl:\n",
    "    for val in data.test.labels.argmax(axis=1):\n",
    "        fl.write(str(val)+'\\n')"
   ]
  },
  {
   "cell_type": "markdown",
   "metadata": {},
   "source": [
    "**Project these files on projoctor.tensorflow.org**"
   ]
  },
  {
   "cell_type": "code",
   "execution_count": null,
   "metadata": {
    "collapsed": false
   },
   "outputs": [],
   "source": [
    "\n",
    "\n"
   ]
  }
 ],
 "metadata": {
  "anaconda-cloud": {},
  "kernelspec": {
   "display_name": "Python [conda env:tensorflow-gpu]",
   "language": "python",
   "name": "conda-env-tensorflow-gpu-py"
  },
  "language_info": {
   "codemirror_mode": {
    "name": "ipython",
    "version": 3
   },
   "file_extension": ".py",
   "mimetype": "text/x-python",
   "name": "python",
   "nbconvert_exporter": "python",
   "pygments_lexer": "ipython3",
   "version": "3.5.2"
  }
 },
 "nbformat": 4,
 "nbformat_minor": 1
}
